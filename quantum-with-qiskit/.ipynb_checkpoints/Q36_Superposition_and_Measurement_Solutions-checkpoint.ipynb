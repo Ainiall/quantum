{
 "cells": [
  {
   "cell_type": "markdown",
   "metadata": {},
   "source": [
    "<a href=\"https://qworld.net\" target=\"_blank\" align=\"left\"><img src=\"../qworld/images/header.jpg\"  align=\"left\"></a>\n",
    "$ \\newcommand{\\bra}[1]{\\langle #1|} $\n",
    "$ \\newcommand{\\ket}[1]{|#1\\rangle} $\n",
    "$ \\newcommand{\\braket}[2]{\\langle #1|#2\\rangle} $\n",
    "$ \\newcommand{\\dot}[2]{ #1 \\cdot #2} $\n",
    "$ \\newcommand{\\biginner}[2]{\\left\\langle #1,#2\\right\\rangle} $\n",
    "$ \\newcommand{\\mymatrix}[2]{\\left( \\begin{array}{#1} #2\\end{array} \\right)} $\n",
    "$ \\newcommand{\\myvector}[1]{\\mymatrix{c}{#1}} $\n",
    "$ \\newcommand{\\myrvector}[1]{\\mymatrix{r}{#1}} $\n",
    "$ \\newcommand{\\mypar}[1]{\\left( #1 \\right)} $\n",
    "$ \\newcommand{\\mybigpar}[1]{ \\Big( #1 \\Big)} $\n",
    "$ \\newcommand{\\sqrttwo}{\\frac{1}{\\sqrt{2}}} $\n",
    "$ \\newcommand{\\dsqrttwo}{\\dfrac{1}{\\sqrt{2}}} $\n",
    "$ \\newcommand{\\onehalf}{\\frac{1}{2}} $\n",
    "$ \\newcommand{\\donehalf}{\\dfrac{1}{2}} $\n",
    "$ \\newcommand{\\hadamard}{ \\mymatrix{rr}{ \\sqrttwo & \\sqrttwo \\\\ \\sqrttwo & -\\sqrttwo }} $\n",
    "$ \\newcommand{\\vzero}{\\myvector{1\\\\0}} $\n",
    "$ \\newcommand{\\vone}{\\myvector{0\\\\1}} $\n",
    "$ \\newcommand{\\stateplus}{\\myvector{ \\sqrttwo \\\\  \\sqrttwo } } $\n",
    "$ \\newcommand{\\stateminus}{ \\myrvector{ \\sqrttwo \\\\ -\\sqrttwo } } $\n",
    "$ \\newcommand{\\myarray}[2]{ \\begin{array}{#1}#2\\end{array}} $\n",
    "$ \\newcommand{\\X}{ \\mymatrix{cc}{0 & 1 \\\\ 1 & 0}  } $\n",
    "$ \\newcommand{\\I}{ \\mymatrix{rr}{1 & 0 \\\\ 0 & 1}  } $\n",
    "$ \\newcommand{\\Z}{ \\mymatrix{rr}{1 & 0 \\\\ 0 & -1}  } $\n",
    "$ \\newcommand{\\Htwo}{ \\mymatrix{rrrr}{ \\frac{1}{2} & \\frac{1}{2} & \\frac{1}{2} & \\frac{1}{2} \\\\ \\frac{1}{2} & -\\frac{1}{2} & \\frac{1}{2} & -\\frac{1}{2} \\\\ \\frac{1}{2} & \\frac{1}{2} & -\\frac{1}{2} & -\\frac{1}{2} \\\\ \\frac{1}{2} & -\\frac{1}{2} & -\\frac{1}{2} & \\frac{1}{2} } } $\n",
    "$ \\newcommand{\\CNOT}{ \\mymatrix{cccc}{1 & 0 & 0 & 0 \\\\ 0 & 1 & 0 & 0 \\\\ 0 & 0 & 0 & 1 \\\\ 0 & 0 & 1 & 0} } $\n",
    "$ \\newcommand{\\norm}[1]{ \\left\\lVert #1 \\right\\rVert } $\n",
    "$ \\newcommand{\\pstate}[1]{ \\lceil \\mspace{-1mu} #1 \\mspace{-1.5mu} \\rfloor } $\n",
    "$ \\newcommand{\\greenbit}[1] {\\mathbf{{\\color{green}#1}}} $\n",
    "$ \\newcommand{\\bluebit}[1] {\\mathbf{{\\color{blue}#1}}} $\n",
    "$ \\newcommand{\\redbit}[1] {\\mathbf{{\\color{red}#1}}} $\n",
    "$ \\newcommand{\\brownbit}[1] {\\mathbf{{\\color{brown}#1}}} $\n",
    "$ \\newcommand{\\blackbit}[1] {\\mathbf{{\\color{black}#1}}} $"
   ]
  },
  {
   "cell_type": "markdown",
   "metadata": {},
   "source": [
    "<font style=\"font-size:28px;\" align=\"left\"><b> <font color=\"blue\"> Solutions for </font>Superposition and Measurement </b></font>\n",
    "<br>\n",
    "_prepared by Abuzer Yakaryilmaz_\n",
    "<br><br>"
   ]
  },
  {
   "cell_type": "markdown",
   "metadata": {},
   "source": [
    "<a id=\"task3\"></a>\n",
    "<h3> Task 3</h3>\n",
    "\n",
    "Repeat the second experiment with the following modifications.\n",
    "\n",
    "Start in state $ \\ket{1} $.\n",
    "\n",
    "Apply a Hadamard gate.\n",
    "\n",
    "Make a measurement. \n",
    "\n",
    "If the measurement outcome is 0, stop.\n",
    "\n",
    "Otherwise, apply a second Hadamard, and then make a measurement.\n",
    "\n",
    "Execute your circuit 1000 times.\n",
    "\n",
    "Calculate the expected values of observing '0' and '1', and then compare your result with the simulator result."
   ]
  },
  {
   "cell_type": "markdown",
   "metadata": {},
   "source": [
    "<h3> Solution </h3>"
   ]
  },
  {
   "cell_type": "code",
   "execution_count": 1,
   "metadata": {},
   "outputs": [
    {
     "data": {
      "image/png": "[encoded data removed]",
      "text/plain": [
       "<Figure size 387.307x144.48 with 1 Axes>"
      ]
     },
     "metadata": {},
     "output_type": "display_data"
    }
   ],
   "source": [
    "# import all necessary objects and methods for quantum circuits\n",
    "from qiskit import QuantumRegister, ClassicalRegister, QuantumCircuit, execute, Aer\n",
    "\n",
    "# define a quantum register with a single qubit\n",
    "q = QuantumRegister(1)\n",
    "# define a classical register with a single bit\n",
    "c = ClassicalRegister(1,\"c\")\n",
    "# define a quantum circuit\n",
    "qc = QuantumCircuit(q,c)\n",
    "\n",
    "# start in state |1>\n",
    "qc.x(q[0])\n",
    "\n",
    "# apply the first Hadamard\n",
    "qc.h(q[0])\n",
    "\n",
    "# the first measurement\n",
    "qc.measure(q,c)\n",
    "\n",
    "# apply the second Hadamard if the measurement outcome is 1\n",
    "qc.h(q[0]).c_if(c,1)\n",
    "\n",
    "# the second measurement\n",
    "qc.measure(q[0],c)\n",
    "\n",
    "# draw the circuit\n",
    "display(qc.draw(output=\"mpl\"))"
   ]
  },
  {
   "cell_type": "markdown",
   "metadata": {},
   "source": [
    "We expect to see outcome '0' and '1' with frequency %75 and %25, respectively."
   ]
  },
  {
   "cell_type": "code",
   "execution_count": 2,
   "metadata": {},
   "outputs": [
    {
     "name": "stdout",
     "output_type": "stream",
     "text": [
      "{'0': 747, '1': 253}\n"
     ]
    }
   ],
   "source": [
    "# execute the circuit 1000 times in the local simulator\n",
    "\n",
    "job = execute(qc,Aer.get_backend('qasm_simulator'),shots=1000)\n",
    "counts = job.result().get_counts(qc)   \n",
    "print(counts)"
   ]
  },
  {
   "cell_type": "markdown",
   "metadata": {},
   "source": [
    "<a id=\"task4\"></a>\n",
    "<h3> Task 4</h3>\n",
    "\n",
    "Design the following quantum circuit.\n",
    "\n",
    "Start in state $ \\ket{0} $.\n",
    "\n",
    "    Repeat 3 times:\n",
    "        if the classical bit is 0:\n",
    "            apply a Hadamard operator\n",
    "        make a measurement\n",
    "\n",
    "Execute your circuit 1000 times.\n",
    "\n",
    "Calculate the expected values of observing '0' and '1', and then compare your result with the simulator result."
   ]
  },
  {
   "cell_type": "markdown",
   "metadata": {},
   "source": [
    "<h3> Solution </h3>"
   ]
  },
  {
   "cell_type": "code",
   "execution_count": null,
   "metadata": {},
   "outputs": [],
   "source": [
    "# import all necessary objects and methods for quantum circuits\n",
    "from qiskit import QuantumRegister, ClassicalRegister, QuantumCircuit, execute, Aer\n",
    "\n",
    "# define a quantum register with a single qubit\n",
    "q = QuantumRegister(1,\"q\")\n",
    "# define a classical register with a single bit\n",
    "c = ClassicalRegister(1,\"c\")\n",
    "# define a quantum circuit\n",
    "qc = QuantumCircuit(q,c)\n",
    "\n",
    "qc.x(q[0])\n",
    "\n",
    "for i in range(3):\n",
    "    qc.h(q[0]).c_if(c,0)\n",
    "    qc.measure(q,c)\n",
    "\n",
    "# draw the circuit\n",
    "qc.draw(output=\"mpl\")"
   ]
  },
  {
   "cell_type": "markdown",
   "metadata": {},
   "source": [
    "We start in state $ \\ket{0} $. Thus, the first Hadamard and measurement are implemented. \n",
    "\n",
    "Out of 1000, we expect to observe 500 '0' and 500 '1'.\n",
    "\n",
    "If the classical bit is 1, then there will be no further Hadamard operator, and so the quantum register will always be in state $ \\ket{1} $ and so all measurements results will be 1.\n",
    "\n",
    "If the classical bit is 0, then another Hadamard applied followed by a measuement.\n",
    "\n",
    "Thus, out ouf 1000, we expect to observe 250 '0' and 750 '1'.\n",
    "\n",
    "Similarly, after the third control, we expect to observe 125 '0' and 875 '1'."
   ]
  },
  {
   "cell_type": "code",
   "execution_count": null,
   "metadata": {},
   "outputs": [],
   "source": [
    "# execute the circuit 1000 times in the local simulator\n",
    "\n",
    "job = execute(qc,Aer.get_backend('qasm_simulator'),shots=10280)\n",
    "counts = job.result().get_counts(qc)   \n",
    "print(counts)"
   ]
  },
  {
   "cell_type": "markdown",
   "metadata": {},
   "source": [
    "<a id=\"task5\"></a>\n",
    "<h3> Task 5</h3>\n",
    "\n",
    "Design the following randomly created quantum circuit.\n",
    "\n",
    "Start in state $ \\ket{0} $.\n",
    "\n",
    "    apply a Hadamard operator\n",
    "    make a measurement\n",
    "    REPEAT 4 times: \n",
    "        randomly pick x in {0,1}\n",
    "        if the classical bit is x:\n",
    "            apply a Hadamard operator\n",
    "        make a measurement\n",
    "        \n",
    "Draw your circuit, and guess the expected frequency of observing '0' and '1' if the circuit is executed 10000 times.\n",
    "\n",
    "Then, execute your circuit 10000 times, and compare your result with the simulator result.\n",
    "\n",
    "Repeat execution a few more times."
   ]
  },
  {
   "cell_type": "markdown",
   "metadata": {},
   "source": [
    "<h3> Solution </h3>\n",
    "\n",
    "We can calculate the frequencies iteratively by python."
   ]
  },
  {
   "cell_type": "code",
   "execution_count": null,
   "metadata": {},
   "outputs": [],
   "source": [
    "# import all necessary objects and methods for quantum circuits\n",
    "from qiskit import QuantumRegister, ClassicalRegister, QuantumCircuit, execute, Aer\n",
    "# import randrange for random choices\n",
    "from random import randrange\n",
    "\n",
    "# define a quantum register with a single qubit\n",
    "q = QuantumRegister(1)\n",
    "# define a classical register with a single bit\n",
    "c = ClassicalRegister(1,\"c\")\n",
    "# define a quantum circuit\n",
    "qc = QuantumCircuit(q,c)\n",
    "\n",
    "shot = 10000\n",
    "\n",
    "observe = [0,0]\n",
    "\n",
    "qc.h(q[0])\n",
    "qc.measure(q,c)\n",
    "observe = [shot/2,shot/2]\n",
    "\n",
    "for i in range(4):\n",
    "    x = randrange(2)\n",
    "    if x==0:\n",
    "        observe[0] = observe[0] / 2 \n",
    "        observe[1] = observe[1] + observe[0]\n",
    "    else:\n",
    "        observe[1] = observe[1] / 2 \n",
    "        observe[0] = observe[0] + observe[1]\n",
    "    qc.h(q[0]).c_if(c,x)\n",
    "    qc.measure(q,c)\n",
    "\n",
    "# draw the circuit\n",
    "display(qc.draw(output=\"mpl\"))"
   ]
  },
  {
   "cell_type": "code",
   "execution_count": null,
   "metadata": {},
   "outputs": [],
   "source": [
    "print('0:',round(observe[0]),'1:',round(observe[1]))\n",
    "\n",
    "# execute the circuit 10000 times in the local simulator\n",
    "job = execute(qc,Aer.get_backend('qasm_simulator'),shots=shot)\n",
    "counts = job.result().get_counts(qc)   \n",
    "print(counts)"
   ]
  }
 ],
 "metadata": {
  "kernelspec": {
   "display_name": "Python 3",
   "language": "python",
   "name": "python3"
  },
  "language_info": {
   "codemirror_mode": {
    "name": "ipython",
    "version": 3
   },
   "file_extension": ".py",
   "mimetype": "text/x-python",
   "name": "python",
   "nbconvert_exporter": "python",
   "pygments_lexer": "ipython3",
   "version": "3.8.8"
  }
 },
 "nbformat": 4,
 "nbformat_minor": 2
}
